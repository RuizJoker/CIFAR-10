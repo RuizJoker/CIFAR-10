{
 "cells": [
  {
   "cell_type": "code",
   "execution_count": 18,
   "metadata": {},
   "outputs": [],
   "source": [
    "#导入所需模块\n",
    "from keras.datasets import cifar10\n",
    "import numpy as np\n",
    "np.random.seed(10)"
   ]
  },
  {
   "cell_type": "code",
   "execution_count": 19,
   "metadata": {},
   "outputs": [],
   "source": [
    "(x_img_train,y_label_train),\\\n",
    "(x_img_test,y_label_test) = cifar10.load_data()"
   ]
  },
  {
   "cell_type": "code",
   "execution_count": 20,
   "metadata": {},
   "outputs": [
    {
     "name": "stdout",
     "output_type": "stream",
     "text": [
      "train data:: images: (50000, 32, 32, 3) labels: (50000, 1)\n",
      "test data:: images: (10000, 32, 32, 3) labels: (10000, 1)\n"
     ]
    }
   ],
   "source": [
    "print('train data::',\"images:\",x_img_train.shape,\"labels:\",y_label_train.shape)\n",
    "print('test data::',\"images:\",x_img_test.shape,\"labels:\",y_label_test.shape)"
   ]
  },
  {
   "cell_type": "code",
   "execution_count": 21,
   "metadata": {},
   "outputs": [],
   "source": [
    "#将图像images的数字标准化\n",
    "x_img_train_normalize = x_img_train.astype('float')/255.0\n",
    "x_img_test_normalize = x_img_test.astype('float')/255.0"
   ]
  },
  {
   "cell_type": "code",
   "execution_count": 22,
   "metadata": {},
   "outputs": [],
   "source": [
    "from keras.utils import np_utils\n",
    "y_label_train_OneHot = np_utils.to_categorical(y_label_train)    #真实值是几，第几个数字就是1\n",
    "y_label_test_OneHot = np_utils.to_categorical(y_label_test)"
   ]
  },
  {
   "cell_type": "code",
   "execution_count": 23,
   "metadata": {},
   "outputs": [],
   "source": [
    "#导入所需模块\n",
    "from keras.models import Sequential\n",
    "from keras.layers import Dense,Dropout,Flatten,Activation,Conv2D,MaxPooling2D,ZeroPadding2D"
   ]
  },
  {
   "cell_type": "code",
   "execution_count": 24,
   "metadata": {},
   "outputs": [],
   "source": [
    "#建立keras的Sequential模型\n",
    "model = Sequential()\n"
   ]
  },
  {
   "cell_type": "code",
   "execution_count": 25,
   "metadata": {},
   "outputs": [],
   "source": [
    "model.add(Conv2D(filters = 32,kernel_size = (3,3),input_shape = (32,32,3),      \n",
    "                activation = 'relu',padding = 'same'))\n",
    "model.add(Dropout(0.3))\n",
    "model.add(Conv2D(filters = 32,kernel_size = (3,3),input_shape = (32,32,3),      \n",
    "                activation = 'relu',padding = 'same'))\n",
    "model.add(MaxPooling2D(pool_size = (2,2)))"
   ]
  },
  {
   "cell_type": "code",
   "execution_count": 26,
   "metadata": {},
   "outputs": [],
   "source": [
    "model.add(Conv2D(filters = 64,kernel_size = (3,3),        \n",
    "                padding = 'same',activation = 'relu')) \n",
    "model.add(Dropout(0.3))\n",
    "model.add(Conv2D(filters = 64,kernel_size = (3,3),        \n",
    "                padding = 'same',activation = 'relu'))\n",
    "model.add(MaxPooling2D(pool_size = (2,2)))"
   ]
  },
  {
   "cell_type": "code",
   "execution_count": 27,
   "metadata": {},
   "outputs": [],
   "source": [
    "model.add(Conv2D(filters = 128,kernel_size = (3,3),        \n",
    "                padding = 'same',activation = 'relu')) \n",
    "model.add(Dropout(0.3))\n",
    "model.add(Conv2D(filters = 128,kernel_size = (3,3),        \n",
    "                padding = 'same',activation = 'relu'))\n",
    "model.add(MaxPooling2D(pool_size = (2,2)))"
   ]
  },
  {
   "cell_type": "code",
   "execution_count": 28,
   "metadata": {},
   "outputs": [],
   "source": [
    "model.add(Flatten())\n",
    "model.add(Dropout(0.3))\n",
    "model.add(Dense(2500,activation = 'relu'))\n",
    "model.add(Dropout(0.3))\n",
    "model.add(Dense(1500,activation = 'relu'))\n",
    "model.add(Dropout(0.3))\n",
    "model.add(Dense(10,activation = 'softmax'))"
   ]
  },
  {
   "cell_type": "code",
   "execution_count": 12,
   "metadata": {},
   "outputs": [],
   "source": [
    "model.compile(loss ='categorical_crossentropy',\n",
    "             optimizer = 'adam',metrics = ['accuracy'])\n",
    "x_img_train_normalize = x_img_train.astype('float')/255.0\n",
    "x_img_test_normalize = x_img_test.astype('float')/255.0\n",
    "from keras.utils import np_utils\n",
    "y_label_train_OneHot = np_utils.to_categorical(y_label_train)    #真实值是几，第几个数字就是1\n",
    "y_label_test_OneHot = np_utils.to_categorical(y_label_test)"
   ]
  },
  {
   "cell_type": "code",
   "execution_count": 13,
   "metadata": {},
   "outputs": [
    {
     "name": "stdout",
     "output_type": "stream",
     "text": [
      "Train on 40000 samples, validate on 10000 samples\n",
      "Epoch 1/50\n",
      "40000/40000 [==============================] - 338s 8ms/step - loss: 1.8924 - acc: 0.2927 - val_loss: 1.7728 - val_acc: 0.3510\n",
      "Epoch 2/50\n",
      "40000/40000 [==============================] - 316s 8ms/step - loss: 1.4692 - acc: 0.4567 - val_loss: 1.4722 - val_acc: 0.4757\n",
      "Epoch 3/50\n",
      "40000/40000 [==============================] - 315s 8ms/step - loss: 1.2700 - acc: 0.5393 - val_loss: 1.1830 - val_acc: 0.5653\n",
      "Epoch 4/50\n",
      "40000/40000 [==============================] - 315s 8ms/step - loss: 1.1282 - acc: 0.5934 - val_loss: 1.0496 - val_acc: 0.6349\n",
      "Epoch 5/50\n",
      "40000/40000 [==============================] - 315s 8ms/step - loss: 1.0211 - acc: 0.6339 - val_loss: 0.9542 - val_acc: 0.6569\n",
      "Epoch 6/50\n",
      "40000/40000 [==============================] - 315s 8ms/step - loss: 0.9316 - acc: 0.6675 - val_loss: 0.8980 - val_acc: 0.6920\n",
      "Epoch 7/50\n",
      "40000/40000 [==============================] - 315s 8ms/step - loss: 0.8549 - acc: 0.6972 - val_loss: 0.8870 - val_acc: 0.6847\n",
      "Epoch 8/50\n",
      "40000/40000 [==============================] - 315s 8ms/step - loss: 0.7892 - acc: 0.7190 - val_loss: 0.8253 - val_acc: 0.7126\n",
      "Epoch 9/50\n",
      "40000/40000 [==============================] - 315s 8ms/step - loss: 0.7370 - acc: 0.7360 - val_loss: 0.7919 - val_acc: 0.7272\n",
      "Epoch 10/50\n",
      "40000/40000 [==============================] - 315s 8ms/step - loss: 0.6874 - acc: 0.7556 - val_loss: 0.7877 - val_acc: 0.7247\n",
      "Epoch 11/50\n",
      "40000/40000 [==============================] - 315s 8ms/step - loss: 0.6464 - acc: 0.7727 - val_loss: 0.7136 - val_acc: 0.7501\n",
      "Epoch 12/50\n",
      "40000/40000 [==============================] - 315s 8ms/step - loss: 0.5885 - acc: 0.7910 - val_loss: 0.7035 - val_acc: 0.7554\n",
      "Epoch 13/50\n",
      "40000/40000 [==============================] - 315s 8ms/step - loss: 0.5570 - acc: 0.8032 - val_loss: 0.6776 - val_acc: 0.7679\n",
      "Epoch 14/50\n",
      "40000/40000 [==============================] - 314s 8ms/step - loss: 0.5225 - acc: 0.8140 - val_loss: 0.6832 - val_acc: 0.7695\n",
      "Epoch 15/50\n",
      "40000/40000 [==============================] - 315s 8ms/step - loss: 0.4791 - acc: 0.8298 - val_loss: 0.7065 - val_acc: 0.7643\n",
      "Epoch 16/50\n",
      "40000/40000 [==============================] - 315s 8ms/step - loss: 0.4547 - acc: 0.8378 - val_loss: 0.6887 - val_acc: 0.7769\n",
      "Epoch 17/50\n",
      "40000/40000 [==============================] - 315s 8ms/step - loss: 0.4145 - acc: 0.8541 - val_loss: 0.6748 - val_acc: 0.7839\n",
      "Epoch 18/50\n",
      "40000/40000 [==============================] - 315s 8ms/step - loss: 0.3995 - acc: 0.8558 - val_loss: 0.6649 - val_acc: 0.7856\n",
      "Epoch 19/50\n",
      "40000/40000 [==============================] - 315s 8ms/step - loss: 0.3652 - acc: 0.8692 - val_loss: 0.6801 - val_acc: 0.7841\n",
      "Epoch 20/50\n",
      "40000/40000 [==============================] - 314s 8ms/step - loss: 0.3541 - acc: 0.8731 - val_loss: 0.7149 - val_acc: 0.7711\n",
      "Epoch 21/50\n",
      "40000/40000 [==============================] - 315s 8ms/step - loss: 0.3287 - acc: 0.8820 - val_loss: 0.6769 - val_acc: 0.7814\n",
      "Epoch 22/50\n",
      "40000/40000 [==============================] - 315s 8ms/step - loss: 0.3190 - acc: 0.8860 - val_loss: 0.7174 - val_acc: 0.7735\n",
      "Epoch 23/50\n",
      "40000/40000 [==============================] - 315s 8ms/step - loss: 0.2896 - acc: 0.8988 - val_loss: 0.6802 - val_acc: 0.7920\n",
      "Epoch 24/50\n",
      "40000/40000 [==============================] - 315s 8ms/step - loss: 0.2692 - acc: 0.9042 - val_loss: 0.7020 - val_acc: 0.7907\n",
      "Epoch 25/50\n",
      "40000/40000 [==============================] - 315s 8ms/step - loss: 0.2674 - acc: 0.9050 - val_loss: 0.7140 - val_acc: 0.7875\n",
      "Epoch 26/50\n",
      "40000/40000 [==============================] - 315s 8ms/step - loss: 0.2577 - acc: 0.9116 - val_loss: 0.7095 - val_acc: 0.7866\n",
      "Epoch 27/50\n",
      "40000/40000 [==============================] - 315s 8ms/step - loss: 0.2476 - acc: 0.9134 - val_loss: 0.7015 - val_acc: 0.7890\n",
      "Epoch 28/50\n",
      "40000/40000 [==============================] - 315s 8ms/step - loss: 0.2365 - acc: 0.9180 - val_loss: 0.7404 - val_acc: 0.7848\n",
      "Epoch 29/50\n",
      "40000/40000 [==============================] - 315s 8ms/step - loss: 0.2261 - acc: 0.9193 - val_loss: 0.7745 - val_acc: 0.7790\n",
      "Epoch 30/50\n",
      "40000/40000 [==============================] - 315s 8ms/step - loss: 0.2213 - acc: 0.9223 - val_loss: 0.7421 - val_acc: 0.7912\n",
      "Epoch 31/50\n",
      "40000/40000 [==============================] - 315s 8ms/step - loss: 0.1989 - acc: 0.9300 - val_loss: 0.7543 - val_acc: 0.7867\n",
      "Epoch 32/50\n",
      "40000/40000 [==============================] - 315s 8ms/step - loss: 0.1987 - acc: 0.9310 - val_loss: 0.7870 - val_acc: 0.7801\n",
      "Epoch 33/50\n",
      "40000/40000 [==============================] - 314s 8ms/step - loss: 0.1880 - acc: 0.9342 - val_loss: 0.7334 - val_acc: 0.7921\n",
      "Epoch 34/50\n",
      "40000/40000 [==============================] - 316s 8ms/step - loss: 0.1823 - acc: 0.9352 - val_loss: 0.7756 - val_acc: 0.7880\n",
      "Epoch 35/50\n",
      "40000/40000 [==============================] - 317s 8ms/step - loss: 0.1864 - acc: 0.9363 - val_loss: 0.7834 - val_acc: 0.7886\n",
      "Epoch 36/50\n",
      "40000/40000 [==============================] - 316s 8ms/step - loss: 0.1800 - acc: 0.9383 - val_loss: 0.7772 - val_acc: 0.7894\n",
      "Epoch 37/50\n",
      "40000/40000 [==============================] - 317s 8ms/step - loss: 0.1746 - acc: 0.9405 - val_loss: 0.7420 - val_acc: 0.7979\n",
      "Epoch 38/50\n",
      "40000/40000 [==============================] - 316s 8ms/step - loss: 0.1630 - acc: 0.9426 - val_loss: 0.7719 - val_acc: 0.7940\n",
      "Epoch 39/50\n",
      "40000/40000 [==============================] - 317s 8ms/step - loss: 0.1631 - acc: 0.9439 - val_loss: 0.7718 - val_acc: 0.7907\n",
      "Epoch 40/50\n",
      "40000/40000 [==============================] - 317s 8ms/step - loss: 0.1555 - acc: 0.9451 - val_loss: 0.7664 - val_acc: 0.7996\n",
      "Epoch 41/50\n",
      "40000/40000 [==============================] - 317s 8ms/step - loss: 0.1552 - acc: 0.9468 - val_loss: 0.7798 - val_acc: 0.7915\n",
      "Epoch 42/50\n",
      "40000/40000 [==============================] - 317s 8ms/step - loss: 0.1537 - acc: 0.9475 - val_loss: 0.7935 - val_acc: 0.7918\n",
      "Epoch 43/50\n",
      "40000/40000 [==============================] - 317s 8ms/step - loss: 0.1548 - acc: 0.9465 - val_loss: 0.7896 - val_acc: 0.7894\n",
      "Epoch 44/50\n",
      "40000/40000 [==============================] - 317s 8ms/step - loss: 0.1518 - acc: 0.9474 - val_loss: 0.7872 - val_acc: 0.7929\n",
      "Epoch 45/50\n",
      "40000/40000 [==============================] - 317s 8ms/step - loss: 0.1532 - acc: 0.9468 - val_loss: 0.8112 - val_acc: 0.7921\n",
      "Epoch 46/50\n",
      "40000/40000 [==============================] - 317s 8ms/step - loss: 0.1446 - acc: 0.9494 - val_loss: 0.7574 - val_acc: 0.7994\n",
      "Epoch 47/50\n",
      "40000/40000 [==============================] - 317s 8ms/step - loss: 0.1473 - acc: 0.9485 - val_loss: 0.7648 - val_acc: 0.7942\n",
      "Epoch 48/50\n",
      "40000/40000 [==============================] - 317s 8ms/step - loss: 0.1378 - acc: 0.9534 - val_loss: 0.7696 - val_acc: 0.7900\n",
      "Epoch 49/50\n",
      "40000/40000 [==============================] - 317s 8ms/step - loss: 0.1408 - acc: 0.9523 - val_loss: 0.7937 - val_acc: 0.7927\n",
      "Epoch 50/50\n",
      "40000/40000 [==============================] - 317s 8ms/step - loss: 0.1339 - acc: 0.9544 - val_loss: 0.8168 - val_acc: 0.7868\n"
     ]
    }
   ],
   "source": [
    "train_history = model.fit(x_img_train_normalize,y_label_train_OneHot,\n",
    "                         validation_split = 0.2,\n",
    "                         epochs = 50,batch_size = 300,verbose = 1)"
   ]
  },
  {
   "cell_type": "code",
   "execution_count": 14,
   "metadata": {},
   "outputs": [
    {
     "data": {
      "text/plain": [
       "0.7763"
      ]
     },
     "execution_count": 14,
     "metadata": {},
     "output_type": "execute_result"
    }
   ],
   "source": [
    "scores = model.evaluate(x_img_test_normalize,y_label_test_OneHot,verbose = 0)\n",
    "scores[1]"
   ]
  }
 ],
 "metadata": {
  "kernelspec": {
   "display_name": "Python 3",
   "language": "python",
   "name": "python3"
  },
  "language_info": {
   "codemirror_mode": {
    "name": "ipython",
    "version": 3
   },
   "file_extension": ".py",
   "mimetype": "text/x-python",
   "name": "python",
   "nbconvert_exporter": "python",
   "pygments_lexer": "ipython3",
   "version": "3.6.6"
  }
 },
 "nbformat": 4,
 "nbformat_minor": 2
}
